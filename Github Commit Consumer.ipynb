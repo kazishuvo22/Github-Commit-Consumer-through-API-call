{
 "cells": [
  {
   "cell_type": "code",
   "execution_count": 1,
   "metadata": {},
   "outputs": [],
   "source": [
    "import requests\n",
    "import os, glob\n",
    "from github import Github\n",
    "from tqdm import tqdm\n",
    "import pandas as pd\n",
    "import json\n",
    "import shutil"
   ]
  },
  {
   "cell_type": "code",
   "execution_count": 3,
   "metadata": {},
   "outputs": [
    {
     "name": "stdout",
     "output_type": "stream",
     "text": [
      "Enter Your User or Organization Github Token: f117c328a9507d66ee42e36543e238b62f968e20\n"
     ]
    },
    {
     "name": "stderr",
     "output_type": "stream",
     "text": [
      "100%|██████████| 43/43 [00:24<00:00,  1.79it/s]"
     ]
    },
    {
     "name": "stdout",
     "output_type": "stream",
     "text": [
      "Write all data Successfully\n"
     ]
    },
    {
     "name": "stderr",
     "output_type": "stream",
     "text": [
      "\n"
     ]
    }
   ],
   "source": [
    "access_token = input(\"Enter Your User or Organization Github Token: \")\n",
    "g = Github(access_token)\n",
    "repo_list = [i for i in g.get_user().get_repos()]\n",
    "for i in tqdm(repo_list):\n",
    "    repo_name = str(i).replace('Repository(full_name=\"', '')\n",
    "    repo_name = str(repo_name).replace('\")', '')\n",
    "    x = repo_name.split(\"/\")\n",
    "    owner = x[0]\n",
    "    repo = x[1]\n",
    "    query_url = f\"https://api.github.com/repos/{owner}/{repo}/commits?sha=master\"\n",
    "    params = {\n",
    "        \"state\": \"open\",\n",
    "    }\n",
    "    headers = {'Authorization': f'token {access_token}'}\n",
    "    r = requests.get(query_url, headers=headers, params=params)\n",
    "    \n",
    "    if not os.path.exists('jsonTemp'):\n",
    "        os.makedirs('jsonTemp')\n",
    "    \n",
    "    file  = open(\"jsonTemp/\"+repo+\".json\",\"w\")\n",
    "    file.write(r.text)\n",
    "    file.close()\n",
    "print(\"Write all data Successfully\")\n",
    "#     print('https://www.github.com/' + repo_name)"
   ]
  },
  {
   "cell_type": "code",
   "execution_count": 4,
   "metadata": {},
   "outputs": [
    {
     "data": {
      "text/plain": [
       "43"
      ]
     },
     "execution_count": 4,
     "metadata": {},
     "output_type": "execute_result"
    }
   ],
   "source": [
    "json_files= glob.glob(os.path.join(\"jsonTemp/\",'*.json'))\n",
    "len(json_files)"
   ]
  },
  {
   "cell_type": "code",
   "execution_count": 5,
   "metadata": {},
   "outputs": [
    {
     "data": {
      "text/plain": [
       "['jsonTemp/eSRD-lab-VIS-int212b016-react-frontend.json',\n",
       " 'jsonTemp/int212b037-PHP-CodeIgniter-problem.json']"
      ]
     },
     "execution_count": 5,
     "metadata": {},
     "output_type": "execute_result"
    }
   ],
   "source": [
    "json_files[0:2]"
   ]
  },
  {
   "cell_type": "code",
   "execution_count": 7,
   "metadata": {
    "scrolled": true
   },
   "outputs": [
    {
     "name": "stderr",
     "output_type": "stream",
     "text": [
      " 47%|████▋     | 20/43 [00:00<00:00, 101.38it/s]"
     ]
    },
    {
     "name": "stdout",
     "output_type": "stream",
     "text": [
      "No commit/ Commit Error!! on jsonTemp/int212b033-e-prescription.json\n",
      "No commit/ Commit Error!! on jsonTemp/int212b058-e-prescription.json\n",
      "No commit/ Commit Error!! on jsonTemp/int212b027-e-prescription.json\n",
      "No commit/ Commit Error!! on jsonTemp/int212b019-e-prescription.json\n"
     ]
    },
    {
     "name": "stderr",
     "output_type": "stream",
     "text": [
      "100%|██████████| 43/43 [00:00<00:00, 102.69it/s]"
     ]
    },
    {
     "name": "stdout",
     "output_type": "stream",
     "text": [
      "No commit/ Commit Error!! on jsonTemp/int212b031-e-prescription.json\n",
      "No commit/ Commit Error!! on jsonTemp/int212b065-User-Tracking.json\n",
      "No commit/ Commit Error!! on jsonTemp/int212b032-e-prescription.json\n",
      "No commit/ Commit Error!! on jsonTemp/spring-angular-evaluation.json\n"
     ]
    },
    {
     "name": "stderr",
     "output_type": "stream",
     "text": [
      "\n"
     ]
    }
   ],
   "source": [
    "for i in tqdm(json_files[:]):\n",
    "    try:\n",
    "        with open(i, 'r') as j:\n",
    "            data = json.loads(j.read())\n",
    "            for s in range(len(data)):\n",
    "                df_nested_list = pd.json_normalize(data[s]['commit'])\n",
    "                if os.path.exists('my_csv.csv'):\n",
    "                    append_write = 'a' # append if already exists\n",
    "                    head = False\n",
    "                else:\n",
    "                    append_write = 'w' # make a new file if not\n",
    "                    head = True\n",
    "                df_nested_list.to_csv('my_csv.csv', mode=append_write, header=head)\n",
    "    except:\n",
    "        print('No commit/ Commit Error!! on '+ i)\n"
   ]
  },
  {
   "cell_type": "code",
   "execution_count": 8,
   "metadata": {},
   "outputs": [
    {
     "name": "stdout",
     "output_type": "stream",
     "text": [
      "<class 'pandas.core.frame.DataFrame'>\n",
      "RangeIndex: 1 entries, 0 to 0\n",
      "Data columns (total 15 columns):\n",
      " #   Column                  Non-Null Count  Dtype \n",
      "---  ------                  --------------  ----- \n",
      " 0   message                 1 non-null      object\n",
      " 1   url                     1 non-null      object\n",
      " 2   comment_count           1 non-null      int64 \n",
      " 3   author.name             1 non-null      object\n",
      " 4   author.email            1 non-null      object\n",
      " 5   author.date             1 non-null      object\n",
      " 6   committer.name          1 non-null      object\n",
      " 7   committer.email         1 non-null      object\n",
      " 8   committer.date          1 non-null      object\n",
      " 9   tree.sha                1 non-null      object\n",
      " 10  tree.url                1 non-null      object\n",
      " 11  verification.verified   1 non-null      bool  \n",
      " 12  verification.reason     1 non-null      object\n",
      " 13  verification.signature  0 non-null      object\n",
      " 14  verification.payload    0 non-null      object\n",
      "dtypes: bool(1), int64(1), object(13)\n",
      "memory usage: 241.0+ bytes\n"
     ]
    }
   ],
   "source": [
    "df_nested_list.info()"
   ]
  },
  {
   "cell_type": "code",
   "execution_count": 9,
   "metadata": {},
   "outputs": [
    {
     "data": {
      "text/plain": [
       "'RaihanSabique'"
      ]
     },
     "execution_count": 9,
     "metadata": {},
     "output_type": "execute_result"
    }
   ],
   "source": [
    "df_nested_list.url[0]\n",
    "df_nested_list['committer.name'][0]"
   ]
  },
  {
   "cell_type": "code",
   "execution_count": 10,
   "metadata": {},
   "outputs": [],
   "source": [
    "try:\n",
    "    shutil.rmtree('jsonTemp')\n",
    "except OSError as e:\n",
    "    print(\"Error: %s : %s\" % (dir_path, e.strerror))"
   ]
  },
  {
   "cell_type": "code",
   "execution_count": 11,
   "metadata": {},
   "outputs": [
    {
     "name": "stdout",
     "output_type": "stream",
     "text": [
      "Done!!!!!!\n"
     ]
    }
   ],
   "source": [
    "print('Done!!!!!!')"
   ]
  },
  {
   "cell_type": "code",
   "execution_count": null,
   "metadata": {},
   "outputs": [],
   "source": []
  }
 ],
 "metadata": {
  "kernelspec": {
   "display_name": "Python 3",
   "language": "python",
   "name": "python3"
  },
  "language_info": {
   "codemirror_mode": {
    "name": "ipython",
    "version": 3
   },
   "file_extension": ".py",
   "mimetype": "text/x-python",
   "name": "python",
   "nbconvert_exporter": "python",
   "pygments_lexer": "ipython3",
   "version": "3.8.5"
  }
 },
 "nbformat": 4,
 "nbformat_minor": 4
}
